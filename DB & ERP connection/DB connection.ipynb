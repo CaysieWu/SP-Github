{
 "cells": [
  {
   "cell_type": "code",
   "execution_count": 4,
   "id": "700cd100-5d57-46d6-ad20-835857d3fd75",
   "metadata": {},
   "outputs": [],
   "source": [
    "import sqlite3\n",
    "import pandas as pd"
   ]
  },
  {
   "cell_type": "code",
   "execution_count": 10,
   "id": "022d6fec-30ea-4e9b-86fd-ffbf354d58e0",
   "metadata": {},
   "outputs": [],
   "source": [
    "DB_file_path = r\"Z:\\跨部門\\共用資料夾\\C. 業務部\\詢價統計DB\\QUOTATION_DATABASE.db\"\n",
    "with sqlite3.connect(DB_file_path) as connect : \n",
    "    query = \"SELECT * FROM CUSTOMER_PRODUCT_SUMMARY\"\n",
    "    df = pd.read_sql_query(query, connect)"
   ]
  },
  {
   "cell_type": "code",
   "execution_count": null,
   "id": "5200fbdc-ead5-4e06-b555-085e4d07201a",
   "metadata": {},
   "outputs": [],
   "source": []
  }
 ],
 "metadata": {
  "kernelspec": {
   "display_name": "Python 3 (ipykernel)",
   "language": "python",
   "name": "python3"
  },
  "language_info": {
   "codemirror_mode": {
    "name": "ipython",
    "version": 3
   },
   "file_extension": ".py",
   "mimetype": "text/x-python",
   "name": "python",
   "nbconvert_exporter": "python",
   "pygments_lexer": "ipython3",
   "version": "3.13.1"
  }
 },
 "nbformat": 4,
 "nbformat_minor": 5
}
