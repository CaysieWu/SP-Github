{
 "cells": [
  {
   "cell_type": "code",
   "execution_count": 5,
   "id": "7f74d781-a2c9-4439-b9ab-822a33ff2389",
   "metadata": {},
   "outputs": [
    {
     "name": "stderr",
     "output_type": "stream",
     "text": [
      "C:\\Users\\sales6\\AppData\\Local\\Temp\\ipykernel_14416\\1755540040.py:25: UserWarning: pandas only supports SQLAlchemy connectable (engine/connection) or database string URI or sqlite3 DBAPI2 connection. Other DBAPI2 objects are not tested. Please consider using SQLAlchemy.\n",
      "  df = pd.read_sql_query(query, connection)\n"
     ]
    }
   ],
   "source": [
    "import pandas as pd\n",
    "import os\n",
    "from datetime import datetime\n",
    "import cx_Oracle\n",
    "from openpyxl import load_workbook\n",
    "\n",
    "def FETCH_DATA():\n",
    "    # Define connection details\n",
    "    dsn = cx_Oracle.makedsn(\n",
    "        host = \"192.168.1.242\",      # Replace with your host IP or domain\n",
    "        port = 1526,                # Replace with your port\n",
    "        service_name = \"sperpdb\"  # Replace with your service name\n",
    "    )\n",
    "\n",
    "    # Establish the connection\n",
    "    connection = cx_Oracle.connect(\n",
    "        user = \"spselect\",         # Replace with your username\n",
    "        password = \"select\",     # Replace with your password\n",
    "        dsn = dsn\n",
    "    )\n",
    "    query = \"\"\"\n",
    "        SELECT * FROM ssl_cst_orde_d \n",
    "        WHERE SC_NO IN ('25070022', '25070023', '25070024', '25070025')\n",
    "    \"\"\"\n",
    "    df = pd.read_sql_query(query, connection)\n",
    "    connection.close()\n",
    "    return df\n",
    "    \n",
    "\n",
    "Order_List = FETCH_DATA()\n",
    "select_columns = [\"SC_NO\", \"PDC_3\", \"ORDER_QTY\"]\n",
    "Order_List = Order_List[select_columns].copy()"
   ]
  },
  {
   "cell_type": "code",
   "execution_count": 6,
   "id": "302bc8ff-aa6e-45f9-86a8-603ad75f915d",
   "metadata": {},
   "outputs": [],
   "source": [
    "base_path = r\"Z:\\業務部\\業務一課\\H-訂單\\1. 外銷\\D09200 National Nail\\1. 訂單\\2025\"\n",
    "\n",
    "CNT_amount = Order_List.drop_duplicates(subset=[\"SC_NO\"])\n",
    "today_str = datetime.today().strftime(\"%Y%m%d\")\n",
    "folder_name = f\"{today_str} 庫存單{CNT_amount.shape[0]}櫃\"\n",
    "\n",
    "create_folder = os.path.join(base_path, folder_name)\n",
    "os.makedirs(create_folder, exist_ok=True)"
   ]
  },
  {
   "cell_type": "code",
   "execution_count": 7,
   "id": "0727e60f-295c-4c49-b560-5b5b21d912ee",
   "metadata": {},
   "outputs": [
    {
     "data": {
      "text/plain": [
       "尺寸\n",
       "9x1-1/4    13894.4\n",
       "9x1-5/8     7443.2\n",
       "9x2-1/4      192.0\n",
       "Name: 訂單項次M數, dtype: float64"
      ]
     },
     "execution_count": 7,
     "metadata": {},
     "output_type": "execute_result"
    }
   ],
   "source": [
    "Order_List = Order_List.rename(columns={'PDC_3': '尺寸', 'ORDER_QTY': '訂單項次M數'})\n",
    "\n",
    "Order_List['尺寸'] = Order_List['尺寸'].replace({\n",
    "    '01200': '9x1-1/4',\n",
    "    '01500': '9x1-5/8',\n",
    "    '02200': '9x2-1/4'\n",
    "})\n",
    "\n",
    "file_path = os.path.join(create_folder, \"stock_order.xlsx\")\n",
    "Order_List.to_excel(file_path, index=False)\n",
    "\n",
    "grouped = Order_List.groupby(\"尺寸\")[\"訂單項次M數\"].sum()\n",
    "grouped"
   ]
  },
  {
   "cell_type": "code",
   "execution_count": 8,
   "id": "208f599a-e95b-4337-9d00-e02b66e12929",
   "metadata": {},
   "outputs": [],
   "source": [
    "wb = load_workbook(file_path)\n",
    "ws = wb['Sheet1']\n",
    "\n",
    "ws.insert_rows(1)\n",
    "# Add the title\n",
    "ws['A1'] = \"庫存單明細\"\n",
    "\n",
    "# Write grouped summary below Order_List\n",
    "start_row = Order_List.shape[0] + 4\n",
    "ws[f'B{start_row}'] = '尺寸'\n",
    "ws[f'C{start_row}'] = '總M數'\n",
    "\n",
    "for i, (size, total) in enumerate(grouped.items(), start=start_row + 1):\n",
    "    ws[f'B{i}'] = size\n",
    "    ws[f'C{i}'] = total\n",
    "\n",
    "# Save changes\n",
    "wb.save(file_path)"
   ]
  },
  {
   "cell_type": "code",
   "execution_count": null,
   "id": "845e9f72-3607-4306-b8df-c84c17f96d69",
   "metadata": {},
   "outputs": [],
   "source": []
  }
 ],
 "metadata": {
  "kernelspec": {
   "display_name": "Python 3 (ipykernel)",
   "language": "python",
   "name": "python3"
  },
  "language_info": {
   "codemirror_mode": {
    "name": "ipython",
    "version": 3
   },
   "file_extension": ".py",
   "mimetype": "text/x-python",
   "name": "python",
   "nbconvert_exporter": "python",
   "pygments_lexer": "ipython3",
   "version": "3.13.1"
  },
  "widgets": {
   "application/vnd.jupyter.widget-state+json": {
    "state": {},
    "version_major": 2,
    "version_minor": 0
   }
  }
 },
 "nbformat": 4,
 "nbformat_minor": 5
}
