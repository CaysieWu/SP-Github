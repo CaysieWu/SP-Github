{
 "cells": [
  {
   "cell_type": "code",
   "execution_count": 30,
   "id": "7f74d781-a2c9-4439-b9ab-822a33ff2389",
   "metadata": {},
   "outputs": [
    {
     "name": "stderr",
     "output_type": "stream",
     "text": [
      "C:\\Users\\sales6\\AppData\\Local\\Temp\\ipykernel_17368\\1435926678.py:30: UserWarning: pandas only supports SQLAlchemy connectable (engine/connection) or database string URI or sqlite3 DBAPI2 connection. Other DBAPI2 objects are not tested. Please consider using SQLAlchemy.\n",
      "  df = pd.read_sql_query(query, connection)\n"
     ]
    }
   ],
   "source": [
    "import pandas as pd\n",
    "import os\n",
    "from sylk_parser import SylkParser\n",
    "from datetime import datetime, timedelta\n",
    "import cx_Oracle\n",
    "import re\n",
    "import xlsxwriter\n",
    "\n",
    "\n",
    "def FETCH_DATA():\n",
    "    # Define connection details\n",
    "    dsn = cx_Oracle.makedsn(\n",
    "        host = \"192.168.1.242\",      # Replace with your host IP or domain\n",
    "        port = 1526,                # Replace with your port\n",
    "        service_name = \"sperpdb\"  # Replace with your service name\n",
    "    )\n",
    "\n",
    "    # Establish the connection\n",
    "    connection = cx_Oracle.connect(\n",
    "        user = \"spselect\",         # Replace with your username\n",
    "        password = \"select\",     # Replace with your password\n",
    "        dsn = dsn\n",
    "    )\n",
    "    query = \"\"\"\n",
    "        SELECT CST_REFE_NO, SC_NO, ORD_DATE, VEN_DLV_DATE, DLV_DATE\n",
    "        FROM V_SCH0200Q_ORD \n",
    "        WHERE CST_PART_NO LIKE 'EB%'\n",
    "        AND ORD_CST_NO = 'D09200'\n",
    "    \"\"\"\n",
    "    df = pd.read_sql_query(query, connection)\n",
    "    connection.close()\n",
    "    return df\n",
    "    \n",
    "\n",
    "List = FETCH_DATA()\n",
    "List = List.drop_duplicates(subset='SC_NO')\n"
   ]
  },
  {
   "cell_type": "code",
   "execution_count": 31,
   "id": "302bc8ff-aa6e-45f9-86a8-603ad75f915d",
   "metadata": {},
   "outputs": [
    {
     "name": "stderr",
     "output_type": "stream",
     "text": [
      "C:\\Users\\sales6\\AppData\\Local\\Temp\\ipykernel_17368\\1120420812.py:12: SettingWithCopyWarning: \n",
      "A value is trying to be set on a copy of a slice from a DataFrame.\n",
      "Try using .loc[row_indexer,col_indexer] = value instead\n",
      "\n",
      "See the caveats in the documentation: https://pandas.pydata.org/pandas-docs/stable/user_guide/indexing.html#returning-a-view-versus-a-copy\n",
      "  Order_List[\"下單至交貨天數\"] = (Order_List[\"訂單交期\"] - Order_List[\"訂單日期\"]).dt.days\n"
     ]
    }
   ],
   "source": [
    "List = List.rename(columns={\n",
    "    \"CST_REFE_NO\": \"客戶PO號\",\n",
    "    \"ORD_DATE\": \"訂單日期\",\n",
    "    \"VEN_DLV_DATE\": \"生管交期\",\n",
    "    \"DLV_DATE\": \"訂單交期\"\n",
    "})\n",
    "\n",
    "\n",
    "Order_List = List[~List[\"客戶PO號\"].str.contains(\"庫存\")]\n",
    "Stock_List = List[List[\"客戶PO號\"].str.contains(\"庫存\")]\n",
    "\n",
    "Order_List[\"下單至交貨天數\"] = (Order_List[\"訂單交期\"] - Order_List[\"訂單日期\"]).dt.days\n",
    "\n",
    "Order_List = Order_List.sort_values(by=\"訂單交期\").reset_index(drop=True)\n",
    "Order_List.index = Order_List.index + 1\n",
    "Stock_List = Stock_List.sort_values(by=\"SC_NO\").reset_index(drop=True)"
   ]
  },
  {
   "cell_type": "code",
   "execution_count": 32,
   "id": "ee581a7d-34d8-434b-9477-450cc75fa789",
   "metadata": {},
   "outputs": [],
   "source": [
    "\n",
    "# === STEP 1: Create weekly ranges ===\n",
    "start_date = datetime(2025, 5, 1)\n",
    "end_date = datetime(2025, 12, 31)\n",
    "\n",
    "current_monday = start_date - timedelta(days=start_date.weekday())\n",
    "\n",
    "weeks = []\n",
    "\n",
    "while current_monday <= end_date:\n",
    "    week_number = current_monday.isocalendar()[1]\n",
    "    week_start = current_monday\n",
    "    week_end = current_monday + timedelta(days=6)\n",
    "    \n",
    "    if week_end >= start_date:\n",
    "        weeks.append({\n",
    "            \"第_周\": week_number,\n",
    "            \"訂單交期\": f\"{week_start.strftime('%m/%d')}~{week_end.strftime('%m/%d')}\",\n",
    "            \"Start\": week_start,\n",
    "            \"End\": week_end\n",
    "        })\n",
    "    \n",
    "    current_monday += timedelta(weeks=1)\n",
    "\n",
    "weeks_df = pd.DataFrame(weeks)\n",
    "\n",
    "# === STEP 2: Assign each Order to a week ===\n",
    "\n",
    "def get_week_range(date):\n",
    "    for _, row in weeks_df.iterrows():\n",
    "        if row[\"Start\"] <= date <= row[\"End\"]:\n",
    "            return row[\"訂單交期\"]\n",
    "    return None\n",
    "\n",
    "Order_List[\"出貨周\"] = Order_List[\"訂單交期\"].apply(get_week_range)\n",
    "\n",
    "# === STEP 3: Group by week and get SC_NO lists ===\n",
    "Order_List[\"SC(PO)\"] = Order_List[\"SC_NO\"].astype(str) + \"(\" + Order_List[\"客戶PO號\"].astype(str) + \")\"\n",
    "Order_List[\"櫃數編號\"] = \"第\" + Order_List.index.astype(str) + \"櫃\"\n",
    "\n",
    "# Step 4: Group by '出貨周' separately\n",
    "grouped_sc = Order_List.groupby(\"出貨周\")[\"SC(PO)\"].apply(list).reset_index()\n",
    "grouped_index = Order_List.groupby(\"出貨周\")[\"櫃數編號\"].apply(list).reset_index()\n",
    "\n",
    "# Step 5: Merge both with weeks_df and expand into columns\n",
    "\n",
    "# For SC(PO)\n",
    "weeks_df_sc = weeks_df.merge(grouped_sc, how=\"left\", left_on=\"訂單交期\", right_on=\"出貨周\")\n",
    "weeks_df_sc = weeks_df_sc[[\"第_周\", \"訂單交期\", \"SC(PO)\"]]\n",
    "sc_df = weeks_df_sc[\"SC(PO)\"].apply(pd.Series)\n",
    "weeks_df_sc = pd.concat([weeks_df_sc[[\"第_周\", \"訂單交期\"]], sc_df], axis=1)\n"
   ]
  },
  {
   "cell_type": "code",
   "execution_count": 33,
   "id": "9e0d106a-b823-4b92-8d17-7685ccbc21b6",
   "metadata": {},
   "outputs": [],
   "source": [
    "for col in [\"訂單日期\", \"生管交期\", \"訂單交期\"]:\n",
    "    for df in [Order_List, Stock_List]:\n",
    "        df[col] = pd.to_datetime(df[col], errors='coerce').dt.strftime('%Y/%m/%d')\n",
    "\n",
    "\n",
    "output_file = r\"Z:\\跨部門\\共用資料夾\\業務 to 包裝 包材及出貨資訊\\D092\\水泥板螺絲系列\\D092水泥板螺絲對照表.xlsx\"\n",
    "with pd.ExcelWriter(output_file, engine=\"xlsxwriter\") as writer:\n",
    "    weeks_df_sc.to_excel(writer, index=False, sheet_name=\"依ERP訂單交期-每周\")\n",
    "    Order_List[[\"客戶PO號\", \"SC_NO\", \"訂單日期\", \"生管交期\", \"訂單交期\", \"下單至交貨天數\"]].to_excel(writer, index=True, sheet_name=\"正式訂單(櫃數編號依出貨資料)\")\n",
    "    Stock_List[[\"SC_NO\",\"客戶PO號\", \"生管交期\"]].to_excel(writer, index=True, sheet_name=\"庫存單對應SC\")"
   ]
  },
  {
   "cell_type": "code",
   "execution_count": null,
   "id": "665a5b50-f857-446c-8f5b-ccb8b0fdbab2",
   "metadata": {},
   "outputs": [],
   "source": []
  }
 ],
 "metadata": {
  "kernelspec": {
   "display_name": "Python 3 (ipykernel)",
   "language": "python",
   "name": "python3"
  },
  "language_info": {
   "codemirror_mode": {
    "name": "ipython",
    "version": 3
   },
   "file_extension": ".py",
   "mimetype": "text/x-python",
   "name": "python",
   "nbconvert_exporter": "python",
   "pygments_lexer": "ipython3",
   "version": "3.13.1"
  },
  "widgets": {
   "application/vnd.jupyter.widget-state+json": {
    "state": {},
    "version_major": 2,
    "version_minor": 0
   }
  }
 },
 "nbformat": 4,
 "nbformat_minor": 5
}
