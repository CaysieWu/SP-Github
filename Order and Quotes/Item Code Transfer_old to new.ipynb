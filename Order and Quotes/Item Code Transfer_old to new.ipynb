{
 "cells": [
  {
   "cell_type": "code",
   "execution_count": 7,
   "id": "d94554a5-8e3e-4aaa-a7ff-d22181ab9d3b",
   "metadata": {},
   "outputs": [],
   "source": [
    "import pandas as pd\n",
    "import os\n",
    "\n",
    "# # Step 1: Read the C019 Orginal RFQ File\n",
    "# Quote_Date = 20250221\n",
    "# RFQ_NO = \"7003022634\"\n",
    "# Base_Path = r\"Z:\\業務部\\業務一課\\G-報價\\1. 外銷\\C01900 Reyher\\2025\"\n",
    "# RFQ_File_Name = f\"_RFQ_7003022634_20250221_011915.xlsx\"\n",
    "# RFQ_Fie_Path = os.path.join(Base_Path,f\"{Quote_Date} {RFQ_NO}\",RFQ_File_Name)\n",
    "# DF_Original_RFQ = pd.read_excel(RFQ_Fie_Path, sheet_name=\"RFQ positions\", skiprows=9)\n",
    "\n",
    "DF_Label_List = pd.read_excel(f\"需張貼標籤客戶產品代號清單.xlsx\")\n",
    "DF_Label_List[\"old_category\"] = DF_Label_List[\"客戶產品代號\"].astype(str).apply(lambda x: \".\".join(x.split(\".\")[:2]))\n",
    "\n",
    "# # Step 2: Extract text before the second '.' for product new product series\n",
    "# RFQ_col_name = \"Material\"\n",
    "# if RFQ_col_name in DF_Original_RFQ.columns:\n",
    "#     DF_Original_RFQ[\"original_category\"] = DF_Original_RFQ[RFQ_col_name].astype(str).apply(lambda x: \".\".join(x.split(\".\")[:2]))\n",
    "\n",
    "# Step 3: Get the previous product series\n",
    "Category_Compare_File_Path = r\"Z:\\業務部\\業務一課\\G-報價\\1. 外銷\\C01900 Reyher\\2025\\C019 新舊產品代號對照表_Caysie.xlsx\"\n",
    "\n",
    "DIC_Item_Series = pd.read_excel(Category_Compare_File_Path, sheet_name=None, dtype=str)\n",
    "DIC_Item_Series.keys\n",
    "Sheet_Names = [\"MS\", \"SDS\", \"TT\", \"DW\", \"CB\", \"TP\"]\n",
    "DF_Sheets = pd.concat([DIC_Item_Series[sheet_name] for sheet_name in Sheet_Names], ignore_index=True)\n",
    "\n",
    "for num, Item_Category in DF_Label_List[\"old_category\"].items():\n",
    "    for idx, Original_Category in DF_Sheets[\"舊產品代號\"].items():  \n",
    "        if Item_Category == Original_Category:\n",
    "            DF_Label_List.loc[num, \"new_category\"] = DF_Sheets.loc[idx, \"新產品代號\"]\n",
    "\n",
    "#Step 5: Get the previous item code for DB running\n",
    "DF_Label_List[\"material_suffix\"] = DF_Label_List[\"客戶產品代號\"].astype(str).apply(lambda x: \".\".join(x.split(\".\")[2:]))\n",
    "DF_Label_List[\"new_item_code\"] = DF_Label_List[\"new_category\"].astype(str) + \".\" + DF_Label_List[\"material_suffix\"]\n",
    "    \n",
    "    # # Reorder columns to place \"previous_item_code\" next to \"Material\"\n",
    "    # cols = DF_Original_RFQ.columns.tolist()\n",
    "    # cols.insert(cols.index(\"Material\") + 1, cols.pop(cols.index(\"previous_item_code\")))\n",
    "    # DF_Original_RFQ = DF_Original_RFQ[cols]\n",
    "\n",
    "DF_Label_List.to_excel(\"label list.xlsx\")"
   ]
  },
  {
   "cell_type": "code",
   "execution_count": 2,
   "id": "19fbbf7b-63ef-41d5-a712-e2cf9dc209ff",
   "metadata": {},
   "outputs": [],
   "source": [
    "import sqlite3\n",
    "\n",
    "# Connect to DB\n",
    "DB_File_Path = r\"Z:\\跨部門\\共用資料夾\\C. 業務部\\詢價統計DB\\QUOTATION_DATABASE.db\"\n",
    "with sqlite3.connect(DB_File_Path) as connect : \n",
    "    query = \"SELECT PRODUCT_CODE FROM CUSTOMER_PRODUCT_SUMMARY WHERE CUSTOMER_CODE = 'C01900'\"\n",
    "    DF_DB = pd.read_sql_query(query, connect)"
   ]
  },
  {
   "cell_type": "code",
   "execution_count": 3,
   "id": "3ed9cc00-00c5-49e7-9b8a-43a397b0859d",
   "metadata": {},
   "outputs": [],
   "source": [
    "# Check existence of original code first than the previous code, to get searching code for SP TOOL BOX running\n",
    "def check_existence(DF_Codes):\n",
    "    # Ensure PRODUCT_CODE is a set for faster lookup\n",
    "    product_codes_set = set(DF_DB[\"PRODUCT_CODE\"])\n",
    "    # Check if Material exists in PRODUCT_CODE\n",
    "    material_match = DF_Codes[\"Material\"].isin(product_codes_set)\n",
    "    \n",
    "    # Check if previous_item_code exists in PRODUCT_CODE\n",
    "    final_material_match = DF_Codes[\"previous_item_code\"].isin(product_codes_set)\n",
    "\n",
    "    # Assign values based on conditions\n",
    "    DF_Codes[\"SEARCHING_CODE\"] = \"Not found\"  # Default value\n",
    "    DF_Codes.loc[final_material_match, \"SEARCHING_CODE\"] = DF_Codes.loc[final_material_match, \"previous_item_code\"]\n",
    "    DF_Codes.loc[material_match, \"SEARCHING_CODE\"] = DF_Codes.loc[material_match, \"Material\"]\n",
    "    return DF_Codes\n",
    "\n",
    "\n",
    "# # Apply function and get final DF\n",
    "DF_Final = check_existence(DF_Original_RFQ)\n",
    "\n",
    "#Save the result to a new Excel file (overwrite existing file)\n",
    "output_file = os.path.join(Base_Path,f\"{Quote_Date} {RFQ_NO}\", f\"Updated_RFQ.xlsx\")\n",
    "\n",
    "selected_columns = [\"Item\", \"Material\", \"previous_item_code\", \"Description\", \n",
    "                    \"RFQ Quantity\", \"Package Qty\", \"SEARCHING_CODE\"]\n",
    "\n",
    "if os.path.exists(output_file):\n",
    "    os.remove(output_file)\n",
    "\n",
    "DF_Final[selected_columns].to_excel(output_file, index=False)\n",
    "\n"
   ]
  },
  {
   "cell_type": "code",
   "execution_count": null,
   "id": "5bb1a4ff-3613-43a0-a9a8-65686676038c",
   "metadata": {},
   "outputs": [],
   "source": []
  }
 ],
 "metadata": {
  "kernelspec": {
   "display_name": "Python 3 (ipykernel)",
   "language": "python",
   "name": "python3"
  },
  "language_info": {
   "codemirror_mode": {
    "name": "ipython",
    "version": 3
   },
   "file_extension": ".py",
   "mimetype": "text/x-python",
   "name": "python",
   "nbconvert_exporter": "python",
   "pygments_lexer": "ipython3",
   "version": "3.13.1"
  },
  "widgets": {
   "application/vnd.jupyter.widget-state+json": {
    "state": {},
    "version_major": 2,
    "version_minor": 0
   }
  }
 },
 "nbformat": 4,
 "nbformat_minor": 5
}
