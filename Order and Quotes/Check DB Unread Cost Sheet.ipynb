{
 "cells": [
  {
   "cell_type": "code",
   "execution_count": 1,
   "id": "38f6bbf8-02a2-4275-a5c2-adb7d6dd43fa",
   "metadata": {},
   "outputs": [
    {
     "name": "stdout",
     "output_type": "stream",
     "text": [
      "Matched file: Z:\\業務部\\業務一課\\G-報價\\1. 外銷\\01報價中客人\\集財\\20250414 自攻螺絲\\-Glave-Wed Apr 16 2025 15_25_30 GMT+0800-(D_S)RFQ_EMAIL -.xlsx\n",
      "Matched file: Z:\\業務部\\業務一課\\G-報價\\1. 外銷\\C00600 pgb\\2025\\20250502 6000120552\\-C00600-Wesley-20250526-(S)0ZBBKR.xlsx\n",
      "Matched file: Z:\\業務部\\業務一課\\G-報價\\1. 外銷\\C00600 pgb\\2025\\20250627 6000123224\\-C00600-Wesley-20250627-(S)6000123224.xlsx\n",
      "Matched file: Z:\\業務部\\業務一課\\G-報價\\1. 外銷\\C01900 Reyher\\2025\\REYHER-article_number_comparison_2025-01-08.xlsx\n",
      "Matched file: Z:\\業務部\\業務一課\\G-報價\\1. 外銷\\C01900 Reyher\\2025\\20250318 7003033451\\-C01900-Wesley-202500409-(D)7003033451.xlsx\n",
      "Matched file: Z:\\業務部\\業務一課\\G-報價\\1. 外銷\\C01900 Reyher\\2025\\20250407 7003042496 CB\\-C01900-Caysie-20250407-(S)7003042496.xlsx\n",
      "Matched file: Z:\\業務部\\業務一課\\G-報價\\1. 外銷\\C01900 Reyher\\2025\\20250423 7003049359 TP\\-C01900-Wesley-20250423-(S)7003049359.xlsx\n",
      "Matched file: Z:\\業務部\\業務一課\\G-報價\\1. 外銷\\C01900 Reyher\\2025\\20250604 6001021140 MS\\-C01900-Caysie-20250605-(S)6001021140 - 複製.xlsx\n",
      "Matched file: Z:\\業務部\\業務一課\\G-報價\\1. 外銷\\C01900 Reyher\\2025\\20250605 7003067889 TT\\-C01900-Caysie-20250620-(D)7003067889(牌價修正).xlsx\n",
      "Matched file: Z:\\業務部\\業務一課\\G-報價\\1. 外銷\\C01900 Reyher\\2025\\20250702 7003077990\\-C01900-Wesley-20250702-(E)7003077990.xlsx\n",
      "Matched file: Z:\\業務部\\業務一課\\G-報價\\1. 外銷\\D00700 - Huttig\\2025\\20250618 6月牌價\\-D00700-Caysie-20250619-(S)D0072506HGG.xlsx\n",
      "Matched file: Z:\\業務部\\業務一課\\G-報價\\1. 外銷\\D00700 - Huttig\\2025\\20250618 6月牌價\\-D00700-Caysie-20250619-(S)D0072506HSPCETP.xlsx\n",
      "Matched file: Z:\\業務部\\業務一課\\G-報價\\1. 外銷\\D00700 - Huttig\\2025\\20250618 6月牌價\\-D00700-Caysie-20250619-(S)D0072506HSPSDS.xlsx\n",
      "Matched file: Z:\\業務部\\業務一課\\G-報價\\1. 外銷\\D00700 - Huttig\\2025\\20250618 6月牌價\\-D00700-Caysie-20250620-(S)D0072506HGS.xlsx\n",
      "Matched file: Z:\\業務部\\業務一課\\G-報價\\1. 外銷\\D00700 - Huttig\\2025\\20250618 6月牌價\\-D00700-Caysie-20250626-(S)D0072506HSPDW.xlsx\n",
      "Matched file: Z:\\業務部\\業務一課\\G-報價\\1. 外銷\\D01200 - Intercorp Strong Point\\2025\\20250619 結構庫存餘料買回公ICC檢測\\-D01200-Glave-20250625-(E)結構.xlsx\n",
      "Matched file: Z:\\業務部\\業務一課\\G-報價\\1. 外銷\\D09200 - National Nails 美國\\2025\\20250423 THD結構螺絲專案\\20250507準備報價條件\\-D09200-Glave-20250508-(S)D092ST2502-for reference.xlsx\n",
      "Matched file: Z:\\業務部\\業務一課\\G-報價\\1. 外銷\\D09200 - National Nails 美國\\2025\\20250423 THD結構螺絲專案\\20250507準備報價條件\\-D09200-Glave-20250508-(S)D092ST2502Flag.xlsx\n",
      "Matched file: Z:\\業務部\\業務一課\\G-報價\\1. 外銷\\D09200 - National Nails 美國\\2025\\20250423 THD結構螺絲專案\\20250507準備報價條件\\-D09200-Glave-20250508-(S)D092ST2502NewPack.xlsx\n",
      "Matched file: Z:\\業務部\\業務一課\\G-報價\\1. 外銷\\D09200 - National Nails 美國\\2025\\20250423 THD結構螺絲專案\\20250507準備報價條件\\External Copy - Deckmate Structural RFQ - CAMO Product List +Packaging Specs + Forecast_UPDATED FORECAST - Quote 5.15.2025 (Glave Copy).xlsx\n",
      "Matched file: Z:\\業務部\\業務一課\\G-報價\\1. 外銷\\D09200 - National Nails 美國\\2025\\20250423 THD結構螺絲專案\\20250514\\-D09200--20250515-(S)D092ST2502-for reference.xlsx\n",
      "Matched file: Z:\\業務部\\業務一課\\G-報價\\1. 外銷\\D09200 - National Nails 美國\\2025\\20250423 THD結構螺絲專案\\20250514\\-D09200--20250515-(S)D092ST2502Flag.xlsx\n",
      "Matched file: Z:\\業務部\\業務一課\\G-報價\\1. 外銷\\D09200 - National Nails 美國\\2025\\20250423 THD結構螺絲專案\\20250514\\-D09200--20250515-(S)D092ST2502NewPack.xlsx\n",
      "Matched file: Z:\\業務部\\業務一課\\G-報價\\1. 外銷\\D09200 - National Nails 美國\\2025\\20250423 THD結構螺絲專案\\20250514\\複本 -D09200-Glave-20250508-(S)D092ST2502NewPack-0516update.xlsx\n",
      "Matched file: Z:\\業務部\\業務一課\\G-報價\\1. 外銷\\D09200 - National Nails 美國\\2025\\20250423 THD結構螺絲專案\\20250626\\SIMPSON -D09200-Glave-20250508-(S)D092ST2502NewPack-0516update.xlsx\n",
      "Matched file: Z:\\業務部\\業務一課\\G-報價\\1. 外銷\\D09200 - National Nails 美國\\2025\\20250519 THD TEKS 屋頂螺絲專案\\Metal Fastener - Statement of Line - 5.16.25 -資訊整理_Caysie.xlsx\n",
      "Matched file: Z:\\業務部\\業務一課\\G-報價\\1. 外銷\\D09200 - National Nails 美國\\2025\\20250519 THD TEKS 屋頂螺絲專案\\複本 Metal Fastener - Statement of Line - 5.16.25-Glave.xlsx\n",
      "Matched file: Z:\\業務部\\業務一課\\G-報價\\1. 外銷\\D09200 - National Nails 美國\\2025\\20250519 THD TEKS 屋頂螺絲專案\\V1 0609報價\\Metal Fastener - Statement of Line - 6.10.25 non-steel and steel.xlsx\n",
      "Matched file: Z:\\業務部\\業務一課\\G-報價\\1. 外銷\\D09200 - National Nails 美國\\2025\\20250519 THD TEKS 屋頂螺絲專案\\V1 0609報價\\僅供參考價格-D09200-Wesley-20250609-(E)D092TEKSV1.xlsx\n",
      "Matched file: Z:\\業務部\\業務一課\\G-報價\\1. 外銷\\D09200 - National Nails 美國\\2025\\20250519 THD TEKS 屋頂螺絲專案\\V2 0613報價\\(V1與競爭者價格比較)SoonPort - THD Quote - Competitive Review - 6.11.2025.xlsx\n",
      "Matched file: Z:\\業務部\\業務一課\\G-報價\\1. 外銷\\D09200 - National Nails 美國\\2025\\20250519 THD TEKS 屋頂螺絲專案\\V2 0613報價\\TEKS project spec-0613Quote-0625Recount Steel Cost - to Ryan.xlsx\n",
      "Matched file: Z:\\業務部\\業務一課\\G-報價\\1. 外銷\\D09200 - National Nails 美國\\2025\\20250519 THD TEKS 屋頂螺絲專案\\V2 0613報價\\僅供參考價格-D09200-Caysie-20250613-(E)D092TEKSV2.xlsx\n",
      "Matched file: Z:\\業務部\\業務一課\\G-報價\\1. 外銷\\D09200 - National Nails 美國\\2025\\20250521 DECKMATE Refresh\\-D09200-Caysie-20240814-木螺絲 大彩盒加國旗標-修正 - 1000小時.xlsx\n",
      "Matched file: Z:\\業務部\\業務一課\\G-報價\\1. 外銷\\D09200 - National Nails 美國\\2025\\20250521 DECKMATE Refresh\\-D09200-Glave-20240729-DECKMATE木螺絲.xlsx\n",
      "Matched file: Z:\\業務部\\業務一課\\G-報價\\1. 外銷\\D09900-美國 - International Fasteners (Daggerz)\\2025\\-D09900-Wesley-20250624-(S)D099SDS2506.xlsx\n",
      "\n",
      "Congrats!跑完啦\n"
     ]
    }
   ],
   "source": [
    "import os\n",
    "import re\n",
    "\n",
    "# Define the main directory\n",
    "Quote_Directory = r\"Z:\\業務部\\業務一課\\G-報價\\1. 外銷\"\n",
    "\n",
    "# Regex pattern for the file format\n",
    "file_pattern = re.compile(r\"^(?!成本表).+?-.*?-.*?-.*?\\.xlsx$\")  # Adjusted to allow for hyphens and special chars\n",
    "\n",
    "# Iterate through all subdirectories inside Quote_Directory\n",
    "for root, dirs, files in os.walk(Quote_Directory):\n",
    "    if \"2025\" in root:  # Ensure we are inside a \"2025\" folder\n",
    "        for file in files:\n",
    "            if file_pattern.match(file):\n",
    "                file_path = os.path.join(root, file)\n",
    "                check_file = os.path.relpath(file_path, Quote_Directory)\n",
    "\n",
    "                exclude_keywords = [\"不報\", \"參考價格\", \"~$\", \"研究\", \"計算\", \"分析\", \"專案報價中\", \"試算\", ]\n",
    "\n",
    "                # Check if any of the unwanted keywords are in the file path\n",
    "                if any(keyword in file_path for keyword in exclude_keywords):\n",
    "                    continue  # Skip this file\n",
    "                \n",
    "                print(f\"Matched file: {file_path}\")\n",
    "\n",
    "print(\"\\nCongrats!跑完啦\")\n",
    "                    "
   ]
  },
  {
   "cell_type": "code",
   "execution_count": null,
   "id": "2787499b-fd38-4d3a-bacb-f41370a88b40",
   "metadata": {},
   "outputs": [],
   "source": []
  }
 ],
 "metadata": {
  "kernelspec": {
   "display_name": "Python 3 (ipykernel)",
   "language": "python",
   "name": "python3"
  },
  "language_info": {
   "codemirror_mode": {
    "name": "ipython",
    "version": 3
   },
   "file_extension": ".py",
   "mimetype": "text/x-python",
   "name": "python",
   "nbconvert_exporter": "python",
   "pygments_lexer": "ipython3",
   "version": "3.13.1"
  },
  "widgets": {
   "application/vnd.jupyter.widget-state+json": {
    "state": {},
    "version_major": 2,
    "version_minor": 0
   }
  }
 },
 "nbformat": 4,
 "nbformat_minor": 5
}
